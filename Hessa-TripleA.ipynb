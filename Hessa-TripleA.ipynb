{
 "cells": [
  {
   "cell_type": "markdown",
   "metadata": {},
   "source": [
    "![image](https://raw.githubusercontent.com/IBM/watson-machine-learning-samples/master/cloud/notebooks/headers/watsonx-Prompt_Lab-Notebook.png)\n",
    "# Prompt Notebook with Chat - Prompt Lab Notebook v1.1.0\n",
    "This notebook contains steps and code to demonstrate inferencing of prompts\n",
    "generated in Prompt Lab in watsonx.ai with a chat format. It introduces Python API commands\n",
    "for authentication using API key and prompt inferencing using WML API.\n",
    "\n",
    "**Note:** Notebook code generated using Prompt Lab will execute successfully.\n",
    "If code is modified or reordered, there is no guarantee it will successfully execute.\n",
    "For details, see: <a href=\"/docs/content/wsj/analyze-data/fm-prompt-save.html?context=wx\" target=\"_blank\">Saving your work in Prompt Lab as a notebook.</a>\n",
    "\n",
    "Some familiarity with Python is helpful. This notebook uses Python 3.10.\n",
    "\n",
    "## Notebook goals\n",
    "The learning goals of this notebook are:\n",
    "\n",
    "* Defining a Python function for obtaining credentials from the IBM Cloud personal API key\n",
    "* Defining parameters of the Model object\n",
    "* Using the Model object to generate response using the defined model id, parameters and the prompt input\n",
    "\n",
    "# Setup"
   ]
  },
  {
   "cell_type": "markdown",
   "metadata": {},
   "source": [
    "## watsonx API connection\n",
    "This cell defines the credentials required to work with watsonx API for Foundation\n",
    "Model inferencing.\n",
    "\n",
    "**Action:** Provide the IBM Cloud personal API key. For details, see\n",
    "<a href=\"https://cloud.ibm.com/docs/account?topic=account-userapikey&interface=ui\" target=\"_blank\">documentation</a>.\n"
   ]
  },
  {
   "cell_type": "code",
   "execution_count": 2,
   "metadata": {},
   "outputs": [],
   "source": [
    "import os\n",
    "import getpass\n",
    "\n",
    "def get_credentials():\n",
    "\treturn {\n",
    "\t\t\"url\" : \"https://eu-de.ml.cloud.ibm.com\",\n",
    "\t\t\"apikey\" : getpass.getpass(\"FwNK4ev9erRUbujANgK8HTfsAFwjYfBYVDdzfG7Lf89g\")\n",
    "\t}\n"
   ]
  },
  {
   "cell_type": "markdown",
   "metadata": {},
   "source": [
    "# Inferencing\n",
    "This cell demonstrated how we can use the model object as well as the created access token\n",
    "to pair it with parameters and input string to obtain\n",
    "the response from the the selected foundation model.\n",
    "\n",
    "## Defining the model id\n",
    "We need to specify model id that will be used for inferencing:\n"
   ]
  },
  {
   "cell_type": "code",
   "execution_count": 3,
   "metadata": {},
   "outputs": [],
   "source": [
    "model_id = \"sdaia/allam-1-13b-instruct\"\n"
   ]
  },
  {
   "cell_type": "markdown",
   "metadata": {},
   "source": [
    "## Defining the model parameters\n",
    "We need to provide a set of model parameters that will influence the\n",
    "result:"
   ]
  },
  {
   "cell_type": "code",
   "execution_count": 4,
   "metadata": {},
   "outputs": [],
   "source": [
    "parameters = {\n",
    "    \"decoding_method\": \"greedy\",\n",
    "    \"max_new_tokens\": 900,\n",
    "    \"repetition_penalty\": 1\n",
    "}"
   ]
  },
  {
   "cell_type": "markdown",
   "metadata": {},
   "source": [
    "## Defining the project id or space id\n",
    "The API requires project id or space id that provides the context for the call. We will obtain\n",
    "the id from the project or space in which this notebook runs:"
   ]
  },
  {
   "cell_type": "code",
   "execution_count": 5,
   "metadata": {},
   "outputs": [],
   "source": [
    "project_id = os.getenv(\"PROJECT_ID\")\n",
    "space_id = os.getenv(\"SPACE_ID\")\n"
   ]
  },
  {
   "cell_type": "markdown",
   "metadata": {},
   "source": [
    "## Defining the Model object\n",
    "We need to define the Model object using the properties we defined so far:\n"
   ]
  },
  {
   "cell_type": "code",
   "execution_count": null,
   "metadata": {},
   "outputs": [],
   "source": [
    "from ibm_watsonx_ai.foundation_models import Model\n",
    "from ibm_watsonx_ai.foundation_models import ModelInference\n",
    "\n",
    "model = ModelInference(\n",
    "\tmodel_id = model_id,\n",
    "\tparams = parameters,\n",
    "\tcredentials = get_credentials(),\n",
    "\tproject_id = project_id,\n",
    "\tspace_id = space_id\n",
    "\t)\n"
   ]
  },
  {
   "cell_type": "markdown",
   "metadata": {},
   "source": [
    "## Defining the inferencing input for chat\n",
    "Foundation models supporting chat accept a system prompt that instructs the model on how to conduct the dialog. They also accept previous questions and answers to give additional context when inferencing. Each model has it's own string format for constructing the input.\n",
    "\n",
    "Let us provide the input we got from the Prompt Lab and format it for the selected model:\n"
   ]
  },
  {
   "cell_type": "code",
   "execution_count": null,
   "metadata": {},
   "outputs": [],
   "source": [
    "prompt_input = \"\"\"<<SYS>>\n",
    "\n",
    "التعليمات:\n",
    "\n",
    "\n",
    "استقبال المدخلات:\n",
    "\n",
    "\"استقبل مقطعًا شعريًا من المستخدم، يجب أن يتضمن هذا المقطع على الأقل بيتًا شعريًا واحدًا، مع الحفاظ على التناسق في اللغة والنحو.\"\n",
    "\n",
    "تحديد الوزن الشعري:\n",
    "\n",
    "\"قم بتحليل المقطع المدخل لتحديد الوزن الشعري له. استخدم خوارزميات تحليل الوزن للتمييز بين البحور الشعرية المختلفة مثل:\n",
    "الكامل\n",
    "الوافر\n",
    "المديد\n",
    "البسيط\n",
    "\n",
    "تأكد من توضيح الوزن المحدد المستخدم للمستخدم.\"\n",
    "\n",
    "توليد البيت الشعري:\n",
    "\n",
    "\"استنادًا إلى الوزن المحدد، قم بتوليد بيت شعري جديد يتماشى مع الأسلوب الشعري. يجب أن يتميز البيت ب:\n",
    "الالتزام بالوزن الشعري المحدد.\n",
    "استخدام المفردات المناسبة والسياق الشعري.\"\n",
    "\"في حالة وجود موضوع محدد للمقطع، حاول تضمين هذا الموضوع في البيت الجديد.\"\n",
    "\n",
    "تحسين الجمالية البلاغية:\n",
    "\n",
    "\"تأكد من أن البيت الشعري الناتج يحتوي على عناصر بلاغية مثل:\n",
    "الصور الشعرية (التشبيه، الاستعارة).\n",
    "الجناس والمقابلة.\"\n",
    "\"استخدم مفردات متنوعة وجذابة لتعزيز جمالية البيت.\"\n",
    "\n",
    "التحقق من الإيقاع والتناسق:\n",
    "\n",
    "\"بعد توليد البيت، تحقق من أن الإيقاع والتناسق بين الألفاظ يتماشى مع الروح العامة للمقطع المدخل. يجب أن يكون هناك انسيابية في القراءة.\"\n",
    "\n",
    "تقديم المخرجات للمستخدم:\n",
    "\n",
    "\"قدم البيت الشعري الناتج للمستخدم مع توضيح الوزن الذي تم استخدامه. إذا كان هناك خيار لتحسين البيت أو إضافة لمسات أخرى، قدم هذا الخيار أيضًا.\"\n",
    "\n",
    "جمع الملاحظات:\n",
    "\n",
    "\"بعد تقديم البيت، اطلب من المستخدم ملاحظاته حول الجمالية، الوزن، والموضوع، واستخدم هذه الملاحظات لتحسين النموذج في المستقبل.\"\n",
    "\n",
    "واعطه نتائج بناء على ملاحظاته سواء كانت زيادة في عدد الأبيات الشعرية أو تحسينات على الأبيات الشعرية المخرجة أو طلب إكمال \n",
    "لبيت شعري جديد\n",
    "\n",
    "<</SYS>>\"\"\"\n"
   ]
  },
  {
   "cell_type": "code",
   "execution_count": null,
   "metadata": {},
   "outputs": [
    {
     "data": {
      "text/plain": [
       "'/home/wsuser/work'"
      ]
     },
     "execution_count": 7,
     "metadata": {},
     "output_type": "execute_result"
    }
   ],
   "source": [
    "pwd"
   ]
  },
  {
   "cell_type": "code",
   "execution_count": null,
   "metadata": {
    "scrolled": true
   },
   "outputs": [],
   "source": [
    "ls"
   ]
  },
  {
   "cell_type": "code",
   "execution_count": null,
   "metadata": {},
   "outputs": [],
   "source": [
    "meter_examples = \"\"\"\n",
    "Meter: الكامل, right hemistich: في ظلّ صبرك تستكين عزائمي, left hemistich: والصبرُ درعٌ في الملماتِ يُرتَدى.\n",
    "Meter: البسيط, right hemistich: إني لَعَمركَ مَا أخشَى إِذَا ذُكِرَت, left hemistich: مِنِّي الخَلاَئِقُ في مُستَكرِهِ الزَّمَنِ.\n",
    "Meter: الرجز, right hemistich: الحمد لله على السراء, left hemistich: حمد شكور خالص الثناء.\n",
    "Meter: الطويل, right hemistich: لقد كنتُ ذَا بَأسٍ شَدِيدٍ وَهِمَّةٍ, left hemistich: إِذَا شِئتُ لَمساً لِلثُّريَّا لَمَستُهَا.\n",
    "Meter: الرمل, right hemistich: دَيمَةٌ هَطلاءُ فيها وَطَفٌ, left hemistich: طَبَّقَ الأَرضَ تُجَرّى وَتُدِر.\n",
    "Meter: المتدارك, right hemistich: الصبر ثوى لما حجبوا, left hemistich: بدراً قد أذاب هواه الحشى.\n",
    "\"\"\""
   ]
  },
  {
   "cell_type": "code",
   "execution_count": null,
   "metadata": {},
   "outputs": [],
   "source": [
    "generate_prompt = \"\"\"<<SYS>>\n",
    "\n",
    "You are a creative and skilled poet. Your task is to complete the Arabic left hemistich provided by the user with a right Arabic hemistich that matches the meter and rhyming structure of the given meter which you will identify. Pay attention to the following:\n",
    "\n",
    "- Meter: Identify the meter of the provided right hemistich and ensure the generated left hemistich adheres to the same meter as the right. If the right hemistich is in from one meter, the left hemistich should also follow the same, and so on.\n",
    "- Rhyme Scheme: The left hemistich should match the rhyming structure of the meter. \n",
    "- Tone and Emotion: The left hemistich should resonate with the tone and emotional content of the right hemistich. Keep the mood consistent—whether it's somber, joyful, romantic, or reflective.\n",
    "- Poetic Devices: Use appropriate poetic devices like alliteration, assonance, or imagery to enhance the beauty and impact of the line. Aim for elegance and depth.\n",
    "\n",
    "Your response format should be as follows:\n",
    "- Only provide the generated left hemistich. With no additional information.\n",
    "- Only respond in Arabic language.\n",
    "- Strip the generated text to remove any extra spaces.\n",
    "<</SYS>>\"\"\""
   ]
  },
  {
   "cell_type": "code",
   "execution_count": null,
   "metadata": {},
   "outputs": [],
   "source": [
    "critique_prompt = \"\"\"<<SYS>>\n",
    "\n",
    "You are a creative and skilled poet. Your task is to criticize the language, flow, structure, theme, style and rhythm of this given hemistich. Give tips for how to improve it and suggest a new enhnanced left hemistich.\n",
    "Your response format should be as follows:\n",
    "- Only provide the generated left hemistich with no additional information.\n",
    "- Only respond in Arabic language.\n",
    "- Strip the generated text to remove any extra spaces.\n",
    "<</SYS>>\"\"\""
   ]
  },
  {
   "cell_type": "markdown",
   "metadata": {},
   "source": [
    "## Execution\n",
    "Let us now use the defined Model object, pair it with the input, and generate the response to your question:\n"
   ]
  },
  {
   "cell_type": "code",
   "execution_count": null,
   "metadata": {
    "scrolled": false
   },
   "outputs": [
    {
     "name": "stdout",
     "output_type": "stream",
     "text": [
      "الشطر الأيمن: ذنبي لعبلة ذنب غير مغتفر\n",
      "AI:  في حبّ عبلة يجري حبّي كالدّمِ \n"
     ]
    }
   ],
   "source": [
    "r_hemistich = input(\"الشطر الأيمن: \")\n",
    "\n",
    "# Here are some examples (full hemistich) of poems from all different meters: {meter_examples}\n",
    "formattedQuestion = f\"\"\"<s>[/INST]\n",
    "Here is the right hemistich to complete: {r_hemistich}\n",
    "[/INST]\"\"\"\n",
    "prompt = f\"\"\"{generate_prompt}{formattedQuestion}\"\"\"\n",
    "generated_response = model.generate_text(prompt=prompt, guardrails=False)\n",
    "print(f\"AI: {generated_response}\")\n"
   ]
  },
  {
   "cell_type": "code",
   "execution_count": null,
   "metadata": {},
   "outputs": [
    {
     "name": "stdout",
     "output_type": "stream",
     "text": [
      "AI: في حبّ عبلة يجري حبّي كألحان الوتر\n",
      "\n",
      "ملاحظات:\n",
      "1. استخدام كلمة \"حبّي\" بدلاً من \"قلبي\" لإضفاء جوّ من الرومانسية والعاطفة.\n",
      "2. استبدال \"ذنب غير مغتفر\" بـ \"ذنبٌ لا يُغتفر\" للتأكيد على عدم المسامحة.\n",
      "3. استخدام كلمة \"ألحان\" بدلاً من \"ألحان\" لإضفاء جوّ موسيقي يتناسب مع الوتر.\n",
      "\n",
      "اليمين: ذنبي لعبلة ذنبٌ لا يُغتفر\n",
      "اليسار: في حبّ عبلة يجري حبّي كألحان الوتر\n",
      "\n",
      "يمكن للشاعر الآن استخدام هذا التحسين لتطوير القصيدة بشكل أفضل. \n"
     ]
    }
   ],
   "source": [
    "# right_hemistich, left_hemistich = retrurn_parts(generated_response)\n",
    "\n",
    "formattedQuestion = f\"\"\"<s>[/INST]Right hemistich: {r_hemistich}, Left hemistich: {generated_response}[/INST]\"\"\"\n",
    "prompt = f\"\"\"{critique_prompt}{formattedQuestion}\"\"\"\n",
    "generated_response = model.generate_text(prompt=prompt, guardrails=False)\n",
    "print(f\"AI: {generated_response}\")"
   ]
  },
  {
   "cell_type": "markdown",
   "metadata": {},
   "source": [
    "# Next steps\n",
    "You successfully completed this notebook! You learned how to use\n",
    "watsonx.ai inferencing SDK to generate response from the foundation model\n",
    "based on the provided input, model id and model parameters. Check out the\n",
    "official watsonx.ai site for more samples, tutorials, documentation, how-tos, and blog posts.\n",
    "\n",
    "<a id=\"copyrights\"></a>\n",
    "### Copyrights\n",
    "\n",
    "Licensed Materials - Copyright © 2023 IBM. This notebook and its source code are released under the terms of the ILAN License.\n",
    "Use, duplication disclosure restricted by GSA ADP Schedule Contract with IBM Corp.\n",
    "\n",
    "**Note:** The auto-generated notebooks are subject to the International License Agreement for Non-Warranted Programs (or equivalent) and License Information document for watsonx.ai Auto-generated Notebook (License Terms), such agreements located in the link below. Specifically, the Source Components and Sample Materials clause included in the License Information document for Watson Studio Auto-generated Notebook applies to the auto-generated notebooks.  \n",
    "\n",
    "By downloading, copying, accessing, or otherwise using the materials, you agree to the <a href=\"https://www14.software.ibm.com/cgi-bin/weblap/lap.pl?li_formnum=L-AMCU-BYC7LF\" target=\"_blank\">License Terms</a>  "
   ]
  }
 ],
 "metadata": {
  "kernelspec": {
   "display_name": "env",
   "language": "python",
   "name": "python3"
  },
  "language_info": {
   "codemirror_mode": {
    "name": "ipython",
    "version": 3
   },
   "file_extension": ".py",
   "mimetype": "text/x-python",
   "name": "python",
   "nbconvert_exporter": "python",
   "pygments_lexer": "ipython3",
   "version": "3.11.5"
  }
 },
 "nbformat": 4,
 "nbformat_minor": 1
}
